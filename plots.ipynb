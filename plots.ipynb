{
 "cells": [
  {
   "cell_type": "markdown",
   "metadata": {},
   "source": [
    "# Plotting notebook\n",
    "This Jupyter notebook will walk you through making the required plots for the final project. It assumes you have some basic knowledge of Python, although it should be fairly easy to follow even if you don't.\n",
    "\n",
    "First we will import some packages we need."
   ]
  },
  {
   "cell_type": "code",
   "execution_count": 2,
   "metadata": {},
   "outputs": [],
   "source": [
    "import pandas as pd\n",
    "import matplotlib.pyplot as plt\n",
    "plt.rcParams['font.family'] = 'serif'\n",
    "plt.rcParams['mathtext.fontset'] = 'dejavuserif'"
   ]
  },
  {
   "cell_type": "markdown",
   "metadata": {},
   "source": [
    "## Loading the data\n",
    "\n",
    "Now we need to read in our data files using pandas to create dataframes."
   ]
  },
  {
   "cell_type": "code",
   "execution_count": null,
   "metadata": {},
   "outputs": [],
   "source": [
    "low_mass = pd.read_csv('your/file/path/low_mass/LOGS/history.data',header=4,sep='\\s+')\n",
    "high_mass = pd.read_csv('/your/file/path/high_mass/LOGS/history.data',header=4,sep='\\s+')"
   ]
  },
  {
   "cell_type": "markdown",
   "metadata": {},
   "source": [
    "We can check what columns we have available with `low_mass.columns`, like seen below."
   ]
  },
  {
   "cell_type": "code",
   "execution_count": null,
   "metadata": {},
   "outputs": [],
   "source": [
    "low_mass.columns"
   ]
  },
  {
   "cell_type": "markdown",
   "metadata": {},
   "source": [
    "Now we need to find ZAMS in our datafile. We define ZAMS as when $1\\%$ of the initial hydrogen mass fraction ($X_i = 0.7$) has been burnt, i.e., when the central hydrogen mass fraction drops to $0.7*0.99 = 0.693$. Write a function to find the index (row number) that this occurs at and find this point for your two simulated stars."
   ]
  },
  {
   "cell_type": "code",
   "execution_count": null,
   "metadata": {},
   "outputs": [],
   "source": [
    "def find_zams(star):\n",
    "\n",
    "    return()\n",
    "\n",
    "low_mass_zams_idx = find_zams(low_mass)\n",
    "high_mass_zams_idx = find_zams(high_mass)"
   ]
  },
  {
   "cell_type": "markdown",
   "metadata": {},
   "source": [
    "We're only interested in the main sequence, so we can just get rid of the data before ZAMS so it doesn't clutter up our plots."
   ]
  },
  {
   "cell_type": "code",
   "execution_count": null,
   "metadata": {},
   "outputs": [],
   "source": [
    "low_mass = low_mass.loc[low_mass_zams_idx:]\n",
    "high_mass = high_mass.loc[high_mass_zams_idx:]"
   ]
  },
  {
   "cell_type": "markdown",
   "metadata": {},
   "source": [
    "Now we figure out what profiles we need. First we find the model number that corresponds to our ZAMS index."
   ]
  },
  {
   "cell_type": "code",
   "execution_count": null,
   "metadata": {},
   "outputs": [],
   "source": [
    "print(low_mass.at[low_mass_zams_idx,'model_number'])\n",
    "print(high_mass.at[high_mass_zams_idx,'model_number'])"
   ]
  },
  {
   "cell_type": "markdown",
   "metadata": {},
   "source": [
    "Note the model number for your low mass star. Now open up the `profiles.index` file inside the `LOGS` folder. The first column is model number, the second is priority (internal MESA things you don't have to worry about, and the third is profile number). Find the model number closest to the ZAMS model number and then note the corresponding profile number. Repeat the process for your high mass star.\n",
    "\n",
    "Since we told MESA to stop the simulation when the stars reach TAMS we can just take the last profile created for our TAMS profile. Note the last profile number in the `profiles.index` file for both stars.\n",
    "\n",
    "Now load these profiles into dataframes with the below code, being sure to replace the `XX` with the profile numbers you noted."
   ]
  },
  {
   "cell_type": "code",
   "execution_count": null,
   "metadata": {},
   "outputs": [],
   "source": [
    "low_mass_zams = pd_read_csv('your/file/path/low_mass/LOGS/profileXX.data',header=4,sep='\\s+')\n",
    "low_mass_tams = pd_read_csv('your/file/path/low_mass/LOGS/profileXX.data',header=4,sep='\\s+')\n",
    "\n",
    "high_mass_zams = pd_read_csv('your/file/path/high_mass/LOGS/profileXX.data',header=4,sep='\\s+')\n",
    "high_mass_tams = pd_read_csv('your/file/path/high_mass/LOGS/profileXX.data',header=4,sep='\\s+')"
   ]
  },
  {
   "cell_type": "markdown",
   "metadata": {},
   "source": [
    "Again, we can see the columns we're working with like so"
   ]
  },
  {
   "cell_type": "code",
   "execution_count": null,
   "metadata": {},
   "outputs": [],
   "source": [
    "low_mass_zams.columns"
   ]
  },
  {
   "cell_type": "markdown",
   "metadata": {},
   "source": [
    "Most of the data (in the history and profile files) is in cgs units, except for mass, radius, and luminosity, which are in solar units. If you want to check what a column means or what the units are, you can look at the `history_columns.list` and `profile_columns.list` files, which have all the possible columns listed with descriptions."
   ]
  },
  {
   "cell_type": "markdown",
   "metadata": {},
   "source": [
    "## Plotting\n",
    "\n",
    "Now we can make the plots. Below is some sample code for plotting. The first makes a regular plot, the second plots two subfigures side by side, and the third plots four subfigures in a grid. You can play around with the `figsize=(x,y)` parameter to change the size of your figures (the values are in inches).\n",
    "\n",
    "Some things to note\n",
    "- If a column value is in log units you can convert it with `10**low_mass['col']` (or `high_mass` of course).\n",
    "- Don't forget axis labels with units\n",
    "- It's usually best to plot time in units of Myr (million years), which you can do by dividing the `star_age` column by 1 million, which looks like this: `low_mass['star_age']/1e6`."
   ]
  },
  {
   "cell_type": "code",
   "execution_count": null,
   "metadata": {},
   "outputs": [],
   "source": [
    "fig,ax = plt.subplots(nrows=1,ncols=1,figsize=(6,4))\n",
    "\n",
    "\n",
    "ax.plot(x_data,y_data,label='a good label')\n",
    "\n",
    "ax.legend()\n",
    "\n",
    "ax.set_xlabel('x data')\n",
    "ax.set_ylabel('y data')\n",
    "ax.invert_xaxis() #if you need to have an inverted x-axis"
   ]
  },
  {
   "cell_type": "code",
   "execution_count": null,
   "metadata": {},
   "outputs": [],
   "source": [
    "fig,ax = plt.subplots(nrows=1,ncols=2,figsize=(12,4))\n",
    "\n",
    "\n",
    "ax[0].plot(x_data1,y_data1,label='data1') #plots in subfig 1\n",
    "ax[1].plot(x_data2,y_data2,label='data2') #plots in subfig 2\n",
    "\n",
    "ax[0].legend()\n",
    "ax[1].legend()\n",
    "\n",
    "ax[0].set_xlabel('x data')\n",
    "ax[0].set_ylabel('y data')\n",
    "\n",
    "ax[1].set_xlabel('x data')\n",
    "ax[1].set_ylabel('y data')"
   ]
  },
  {
   "cell_type": "code",
   "execution_count": null,
   "metadata": {},
   "outputs": [],
   "source": [
    "fig, ax = plt.subplots(2,2,figsize=(12,8))\n",
    "\n",
    "ax[0][0].plot(x_data1,y_data1,label='data 1') #plots in top left\n",
    "ax[0][1].plot(x_data2, y_data2,label='data 2') #plots in top right\n",
    "ax[1][0].plot(x_data3, y_data3,label='data 3') #plots in bottom left\n",
    "ax[1][1].plot(x_data4, y_data4,label='data 4') #plots in bottom right\n",
    "\n",
    "ax[0][0].set_xlabel('x data')\n",
    "ax[0][0].set_ylabel('y data')\n",
    "ax[0][0].legend()\n",
    "\n",
    "ax[0][1].set_xlabel('x data')\n",
    "ax[0][1].set_ylabel('y data')\n",
    "ax[0][1].legend()\n",
    "\n",
    "ax[1][0].set_xlabel('x data')\n",
    "ax[1][0].set_ylabel('y data')\n",
    "ax[1][0].legend()\n",
    "\n",
    "ax[1][1].set_xlabel('x data')\n",
    "ax[1][1].set_ylabel('y data')\n",
    "ax[1][1].legend()"
   ]
  }
 ],
 "metadata": {
  "kernelspec": {
   "display_name": "Python 3.11.0 ('stellarastro')",
   "language": "python",
   "name": "python3"
  },
  "language_info": {
   "codemirror_mode": {
    "name": "ipython",
    "version": 3
   },
   "file_extension": ".py",
   "mimetype": "text/x-python",
   "name": "python",
   "nbconvert_exporter": "python",
   "pygments_lexer": "ipython3",
   "version": "3.11.0"
  },
  "orig_nbformat": 4,
  "vscode": {
   "interpreter": {
    "hash": "1ad8df9fa421f791ea13fcc57b9e92a8c9784fab38650e2cd639f939ffc52d56"
   }
  }
 },
 "nbformat": 4,
 "nbformat_minor": 2
}
